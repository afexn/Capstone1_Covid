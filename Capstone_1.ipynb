{
 "cells": [
  {
   "cell_type": "code",
   "execution_count": 100,
   "id": "a75f2619",
   "metadata": {},
   "outputs": [],
   "source": [
    "import pandas as pd\n",
    "########\n",
    "import numpy as np\n",
    "import matplotlib.pyplot as plt\n",
    "import seaborn as sns\n",
    "import plotly.express as px\n",
    "\n",
    "from sklearn.linear_model import LinearRegression, Lasso, Ridge\n",
    "from sklearn.metrics.pairwise import polynomial_kernel, rbf_kernel\n",
    "from sklearn.pipeline import Pipeline\n",
    "from sklearn.preprocessing import StandardScaler, OneHotEncoder, PolynomialFeatures\n",
    "from sklearn.metrics import accuracy_score, recall_score, precision_score\n",
    "\n",
    "from sklearn.preprocessing import MinMaxScaler\n",
    "from sklearn.metrics import mean_squared_error, r2_score\n",
    "from sklearn.model_selection import KFold, cross_val_predict\n",
    "\n",
    "from sklearn.model_selection import train_test_split\n",
    "\n",
    "import warnings \n",
    "warnings.filterwarnings('ignore')\n"
   ]
  },
  {
   "cell_type": "code",
   "execution_count": 101,
   "id": "388a8b79",
   "metadata": {},
   "outputs": [
    {
     "data": {
      "text/html": [
       "<div>\n",
       "<style scoped>\n",
       "    .dataframe tbody tr th:only-of-type {\n",
       "        vertical-align: middle;\n",
       "    }\n",
       "\n",
       "    .dataframe tbody tr th {\n",
       "        vertical-align: top;\n",
       "    }\n",
       "\n",
       "    .dataframe thead th {\n",
       "        text-align: right;\n",
       "    }\n",
       "</style>\n",
       "<table border=\"1\" class=\"dataframe\">\n",
       "  <thead>\n",
       "    <tr style=\"text-align: right;\">\n",
       "      <th></th>\n",
       "      <th>iso_code</th>\n",
       "      <th>location</th>\n",
       "      <th>date</th>\n",
       "      <th>total_cases</th>\n",
       "      <th>total_deaths</th>\n",
       "      <th>stringency_index</th>\n",
       "      <th>population</th>\n",
       "      <th>gdp_per_capita</th>\n",
       "      <th>human_development_index</th>\n",
       "      <th>Unnamed: 9</th>\n",
       "      <th>Unnamed: 10</th>\n",
       "      <th>Unnamed: 11</th>\n",
       "      <th>Unnamed: 12</th>\n",
       "      <th>Unnamed: 13</th>\n",
       "    </tr>\n",
       "  </thead>\n",
       "  <tbody>\n",
       "    <tr>\n",
       "      <th>0</th>\n",
       "      <td>AFG</td>\n",
       "      <td>Afghanistan</td>\n",
       "      <td>2019-12-31</td>\n",
       "      <td>0.0</td>\n",
       "      <td>0.0</td>\n",
       "      <td>0.0</td>\n",
       "      <td>38928341</td>\n",
       "      <td>1803.987</td>\n",
       "      <td>0.498</td>\n",
       "      <td>#NUM!</td>\n",
       "      <td>#NUM!</td>\n",
       "      <td>#NUM!</td>\n",
       "      <td>17.477233</td>\n",
       "      <td>7.497754494</td>\n",
       "    </tr>\n",
       "    <tr>\n",
       "      <th>1</th>\n",
       "      <td>AFG</td>\n",
       "      <td>Afghanistan</td>\n",
       "      <td>2020-01-01</td>\n",
       "      <td>0.0</td>\n",
       "      <td>0.0</td>\n",
       "      <td>0.0</td>\n",
       "      <td>38928341</td>\n",
       "      <td>1803.987</td>\n",
       "      <td>0.498</td>\n",
       "      <td>#NUM!</td>\n",
       "      <td>#NUM!</td>\n",
       "      <td>#NUM!</td>\n",
       "      <td>17.477233</td>\n",
       "      <td>7.497754494</td>\n",
       "    </tr>\n",
       "    <tr>\n",
       "      <th>2</th>\n",
       "      <td>AFG</td>\n",
       "      <td>Afghanistan</td>\n",
       "      <td>2020-01-02</td>\n",
       "      <td>0.0</td>\n",
       "      <td>0.0</td>\n",
       "      <td>0.0</td>\n",
       "      <td>38928341</td>\n",
       "      <td>1803.987</td>\n",
       "      <td>0.498</td>\n",
       "      <td>#NUM!</td>\n",
       "      <td>#NUM!</td>\n",
       "      <td>#NUM!</td>\n",
       "      <td>17.477233</td>\n",
       "      <td>7.497754494</td>\n",
       "    </tr>\n",
       "  </tbody>\n",
       "</table>\n",
       "</div>"
      ],
      "text/plain": [
       "  iso_code     location        date  total_cases  total_deaths  \\\n",
       "0      AFG  Afghanistan  2019-12-31          0.0           0.0   \n",
       "1      AFG  Afghanistan  2020-01-01          0.0           0.0   \n",
       "2      AFG  Afghanistan  2020-01-02          0.0           0.0   \n",
       "\n",
       "   stringency_index  population  gdp_per_capita  human_development_index  \\\n",
       "0               0.0    38928341        1803.987                    0.498   \n",
       "1               0.0    38928341        1803.987                    0.498   \n",
       "2               0.0    38928341        1803.987                    0.498   \n",
       "\n",
       "  Unnamed: 9 Unnamed: 10 Unnamed: 11  Unnamed: 12  Unnamed: 13  \n",
       "0      #NUM!       #NUM!       #NUM!    17.477233  7.497754494  \n",
       "1      #NUM!       #NUM!       #NUM!    17.477233  7.497754494  \n",
       "2      #NUM!       #NUM!       #NUM!    17.477233  7.497754494  "
      ]
     },
     "execution_count": 101,
     "metadata": {},
     "output_type": "execute_result"
    }
   ],
   "source": [
    "df = pd.read_csv('Covid_data.csv', sep=',')\n",
    "df.head(3)"
   ]
  },
  {
   "cell_type": "code",
   "execution_count": 102,
   "id": "41cdb71f",
   "metadata": {},
   "outputs": [
    {
     "data": {
      "text/html": [
       "<div>\n",
       "<style scoped>\n",
       "    .dataframe tbody tr th:only-of-type {\n",
       "        vertical-align: middle;\n",
       "    }\n",
       "\n",
       "    .dataframe tbody tr th {\n",
       "        vertical-align: top;\n",
       "    }\n",
       "\n",
       "    .dataframe thead th {\n",
       "        text-align: right;\n",
       "    }\n",
       "</style>\n",
       "<table border=\"1\" class=\"dataframe\">\n",
       "  <thead>\n",
       "    <tr style=\"text-align: right;\">\n",
       "      <th></th>\n",
       "      <th>location</th>\n",
       "      <th>date</th>\n",
       "      <th>total_cases</th>\n",
       "      <th>total_deaths</th>\n",
       "      <th>stringency_index</th>\n",
       "      <th>population</th>\n",
       "      <th>gdp_per_capita</th>\n",
       "      <th>human_development_index</th>\n",
       "    </tr>\n",
       "  </thead>\n",
       "  <tbody>\n",
       "    <tr>\n",
       "      <th>0</th>\n",
       "      <td>Afghanistan</td>\n",
       "      <td>2019-12-31</td>\n",
       "      <td>0.0</td>\n",
       "      <td>0.0</td>\n",
       "      <td>0.0</td>\n",
       "      <td>38928341</td>\n",
       "      <td>1803.987</td>\n",
       "      <td>0.498</td>\n",
       "    </tr>\n",
       "    <tr>\n",
       "      <th>1</th>\n",
       "      <td>Afghanistan</td>\n",
       "      <td>2020-01-01</td>\n",
       "      <td>0.0</td>\n",
       "      <td>0.0</td>\n",
       "      <td>0.0</td>\n",
       "      <td>38928341</td>\n",
       "      <td>1803.987</td>\n",
       "      <td>0.498</td>\n",
       "    </tr>\n",
       "  </tbody>\n",
       "</table>\n",
       "</div>"
      ],
      "text/plain": [
       "      location        date  total_cases  total_deaths  stringency_index  \\\n",
       "0  Afghanistan  2019-12-31          0.0           0.0               0.0   \n",
       "1  Afghanistan  2020-01-01          0.0           0.0               0.0   \n",
       "\n",
       "   population  gdp_per_capita  human_development_index  \n",
       "0    38928341        1803.987                    0.498  \n",
       "1    38928341        1803.987                    0.498  "
      ]
     },
     "execution_count": 102,
     "metadata": {},
     "output_type": "execute_result"
    }
   ],
   "source": [
    "df_ = df.drop(['iso_code','Unnamed: 9', 'Unnamed: 10', 'Unnamed: 11', 'Unnamed: 12', 'Unnamed: 13'], axis = 1)\n",
    "df_.head(2)"
   ]
  },
  {
   "cell_type": "code",
   "execution_count": 103,
   "id": "a8931290",
   "metadata": {},
   "outputs": [
    {
     "data": {
      "text/html": [
       "<div>\n",
       "<style scoped>\n",
       "    .dataframe tbody tr th:only-of-type {\n",
       "        vertical-align: middle;\n",
       "    }\n",
       "\n",
       "    .dataframe tbody tr th {\n",
       "        vertical-align: top;\n",
       "    }\n",
       "\n",
       "    .dataframe thead th {\n",
       "        text-align: right;\n",
       "    }\n",
       "</style>\n",
       "<table border=\"1\" class=\"dataframe\">\n",
       "  <thead>\n",
       "    <tr style=\"text-align: right;\">\n",
       "      <th></th>\n",
       "      <th>location</th>\n",
       "      <th>date</th>\n",
       "      <th>total_cases</th>\n",
       "      <th>total_deaths</th>\n",
       "      <th>stringency_index</th>\n",
       "      <th>population</th>\n",
       "      <th>gdp_per_capita</th>\n",
       "      <th>human_development_index</th>\n",
       "    </tr>\n",
       "  </thead>\n",
       "  <tbody>\n",
       "    <tr>\n",
       "      <th>0</th>\n",
       "      <td>Afghanistan</td>\n",
       "      <td>2019-12-31</td>\n",
       "      <td>0.0</td>\n",
       "      <td>0.0</td>\n",
       "      <td>0.0</td>\n",
       "      <td>38928341</td>\n",
       "      <td>1803.987</td>\n",
       "      <td>0.498</td>\n",
       "    </tr>\n",
       "    <tr>\n",
       "      <th>1</th>\n",
       "      <td>Afghanistan</td>\n",
       "      <td>2020-01-01</td>\n",
       "      <td>0.0</td>\n",
       "      <td>0.0</td>\n",
       "      <td>0.0</td>\n",
       "      <td>38928341</td>\n",
       "      <td>1803.987</td>\n",
       "      <td>0.498</td>\n",
       "    </tr>\n",
       "  </tbody>\n",
       "</table>\n",
       "</div>"
      ],
      "text/plain": [
       "      location        date  total_cases  total_deaths  stringency_index  \\\n",
       "0  Afghanistan  2019-12-31          0.0           0.0               0.0   \n",
       "1  Afghanistan  2020-01-01          0.0           0.0               0.0   \n",
       "\n",
       "   population  gdp_per_capita  human_development_index  \n",
       "0    38928341        1803.987                    0.498  \n",
       "1    38928341        1803.987                    0.498  "
      ]
     },
     "execution_count": 103,
     "metadata": {},
     "output_type": "execute_result"
    }
   ],
   "source": [
    "df1 = df_.dropna(axis=0)\n",
    "df1.head(2)"
   ]
  },
  {
   "cell_type": "markdown",
   "id": "5541145a",
   "metadata": {},
   "source": [
    "# Non-transfromed Data\n",
    "The gross domestic product (gdp per capita) indicates very low as the human development index very major percentage of it dispersed in the scale range of 0.4 to 1, and the cluster of data sets in the figure below has a downward parabolic curve."
   ]
  },
  {
   "cell_type": "code",
   "execution_count": 104,
   "id": "2eeed1b1",
   "metadata": {},
   "outputs": [
    {
     "data": {
      "text/plain": [
       "<AxesSubplot:xlabel='gdp_per_capita', ylabel='human_development_index'>"
      ]
     },
     "execution_count": 104,
     "metadata": {},
     "output_type": "execute_result"
    },
    {
     "data": {
      "image/png": "[encoded data removed]",
      "text/plain": [
       "<Figure size 432x288 with 1 Axes>"
      ]
     },
     "metadata": {
      "needs_background": "light"
     },
     "output_type": "display_data"
    }
   ],
   "source": [
    "#px.scatter(df_, x=\"gdp_per_capita\", y=\"human_development_index\")\n",
    "sns.scatterplot(data=df_, x=\"gdp_per_capita\", y=\"human_development_index\")\n"
   ]
  },
  {
   "cell_type": "markdown",
   "id": "8dc607aa",
   "metadata": {},
   "source": [
    "# Log-transformation\n",
    "\n",
    "The target variable(features) in a log-level regression model is log-transformed, while the parameters are not. We must first exponentiate the coefficients of the variables before we can interpret the coefficients of a log-level regression.The data type in linear or regular form was skewed. \n",
    "\n",
    "The data from the plot above is significantly different because it is now linearly skewed as a result of the data transformation."
   ]
  },
  {
   "cell_type": "code",
   "execution_count": 105,
   "id": "d860d769",
   "metadata": {},
   "outputs": [],
   "source": [
    "df1['gdp_per_capita']= df1['gdp_per_capita'].apply(lambda x: np.log(x + 1))\n",
    "df1['total_deaths'] = df1['total_deaths'].apply(lambda x: np.log(x + 1))\n",
    "df1['total_cases'] = df1['total_cases'].apply(lambda x: np.log(x + 1))"
   ]
  },
  {
   "cell_type": "code",
   "execution_count": 106,
   "id": "7b2d8a80",
   "metadata": {},
   "outputs": [],
   "source": [
    "#px.scatter(df1, x=\"gdp_per_capita\", y=\"human_development_index\")"
   ]
  },
  {
   "cell_type": "code",
   "execution_count": 107,
   "id": "592134a2",
   "metadata": {},
   "outputs": [
    {
     "data": {
      "text/plain": [
       "<AxesSubplot:xlabel='gdp_per_capita', ylabel='human_development_index'>"
      ]
     },
     "execution_count": 107,
     "metadata": {},
     "output_type": "execute_result"
    },
    {
     "data": {
      "image/png": "[encoded data removed]",
      "text/plain": [
       "<Figure size 432x288 with 1 Axes>"
      ]
     },
     "metadata": {
      "needs_background": "light"
     },
     "output_type": "display_data"
    }
   ],
   "source": [
    "sns.scatterplot(data=df1, x=\"gdp_per_capita\", y=\"human_development_index\")"
   ]
  },
  {
   "cell_type": "markdown",
   "id": "638fb4d3",
   "metadata": {},
   "source": [
    "# dummy\n",
    "constructs dummy variables with categorical features."
   ]
  },
  {
   "cell_type": "code",
   "execution_count": 108,
   "id": "49fb3729",
   "metadata": {},
   "outputs": [
    {
     "data": {
      "text/html": [
       "<div>\n",
       "<style scoped>\n",
       "    .dataframe tbody tr th:only-of-type {\n",
       "        vertical-align: middle;\n",
       "    }\n",
       "\n",
       "    .dataframe tbody tr th {\n",
       "        vertical-align: top;\n",
       "    }\n",
       "\n",
       "    .dataframe thead th {\n",
       "        text-align: right;\n",
       "    }\n",
       "</style>\n",
       "<table border=\"1\" class=\"dataframe\">\n",
       "  <thead>\n",
       "    <tr style=\"text-align: right;\">\n",
       "      <th></th>\n",
       "      <th>total_cases</th>\n",
       "      <th>total_deaths</th>\n",
       "      <th>stringency_index</th>\n",
       "      <th>population</th>\n",
       "      <th>gdp_per_capita</th>\n",
       "      <th>human_development_index</th>\n",
       "      <th>location_Albania</th>\n",
       "      <th>location_Algeria</th>\n",
       "      <th>location_Angola</th>\n",
       "      <th>location_Argentina</th>\n",
       "      <th>...</th>\n",
       "      <th>date_2020-10-10</th>\n",
       "      <th>date_2020-10-11</th>\n",
       "      <th>date_2020-10-12</th>\n",
       "      <th>date_2020-10-13</th>\n",
       "      <th>date_2020-10-14</th>\n",
       "      <th>date_2020-10-15</th>\n",
       "      <th>date_2020-10-16</th>\n",
       "      <th>date_2020-10-17</th>\n",
       "      <th>date_2020-10-18</th>\n",
       "      <th>date_2020-10-19</th>\n",
       "    </tr>\n",
       "  </thead>\n",
       "  <tbody>\n",
       "    <tr>\n",
       "      <th>0</th>\n",
       "      <td>0.0</td>\n",
       "      <td>0.0</td>\n",
       "      <td>0.0</td>\n",
       "      <td>38928341</td>\n",
       "      <td>7.498309</td>\n",
       "      <td>0.498</td>\n",
       "      <td>0</td>\n",
       "      <td>0</td>\n",
       "      <td>0</td>\n",
       "      <td>0</td>\n",
       "      <td>...</td>\n",
       "      <td>0</td>\n",
       "      <td>0</td>\n",
       "      <td>0</td>\n",
       "      <td>0</td>\n",
       "      <td>0</td>\n",
       "      <td>0</td>\n",
       "      <td>0</td>\n",
       "      <td>0</td>\n",
       "      <td>0</td>\n",
       "      <td>0</td>\n",
       "    </tr>\n",
       "    <tr>\n",
       "      <th>1</th>\n",
       "      <td>0.0</td>\n",
       "      <td>0.0</td>\n",
       "      <td>0.0</td>\n",
       "      <td>38928341</td>\n",
       "      <td>7.498309</td>\n",
       "      <td>0.498</td>\n",
       "      <td>0</td>\n",
       "      <td>0</td>\n",
       "      <td>0</td>\n",
       "      <td>0</td>\n",
       "      <td>...</td>\n",
       "      <td>0</td>\n",
       "      <td>0</td>\n",
       "      <td>0</td>\n",
       "      <td>0</td>\n",
       "      <td>0</td>\n",
       "      <td>0</td>\n",
       "      <td>0</td>\n",
       "      <td>0</td>\n",
       "      <td>0</td>\n",
       "      <td>0</td>\n",
       "    </tr>\n",
       "  </tbody>\n",
       "</table>\n",
       "<p>2 rows × 452 columns</p>\n",
       "</div>"
      ],
      "text/plain": [
       "   total_cases  total_deaths  stringency_index  population  gdp_per_capita  \\\n",
       "0          0.0           0.0               0.0    38928341        7.498309   \n",
       "1          0.0           0.0               0.0    38928341        7.498309   \n",
       "\n",
       "   human_development_index  location_Albania  location_Algeria  \\\n",
       "0                    0.498                 0                 0   \n",
       "1                    0.498                 0                 0   \n",
       "\n",
       "   location_Angola  location_Argentina  ...  date_2020-10-10  date_2020-10-11  \\\n",
       "0                0                   0  ...                0                0   \n",
       "1                0                   0  ...                0                0   \n",
       "\n",
       "   date_2020-10-12  date_2020-10-13  date_2020-10-14  date_2020-10-15  \\\n",
       "0                0                0                0                0   \n",
       "1                0                0                0                0   \n",
       "\n",
       "   date_2020-10-16  date_2020-10-17  date_2020-10-18  date_2020-10-19  \n",
       "0                0                0                0                0  \n",
       "1                0                0                0                0  \n",
       "\n",
       "[2 rows x 452 columns]"
      ]
     },
     "execution_count": 108,
     "metadata": {},
     "output_type": "execute_result"
    }
   ],
   "source": [
    "df2 = pd.get_dummies(df1,drop_first=True)\n",
    "df2.head(2)"
   ]
  },
  {
   "cell_type": "markdown",
   "id": "396073f1",
   "metadata": {},
   "source": [
    "# Normalize\n",
    "Add a scaler to the data to normalize it. This demonstrates that each feature is processed evenly when in use.normalize the columns of total_cases, total_deaths, & gdp_per_capita."
   ]
  },
  {
   "cell_type": "code",
   "execution_count": 109,
   "id": "344f2721",
   "metadata": {},
   "outputs": [
    {
     "data": {
      "text/html": [
       "<div>\n",
       "<style scoped>\n",
       "    .dataframe tbody tr th:only-of-type {\n",
       "        vertical-align: middle;\n",
       "    }\n",
       "\n",
       "    .dataframe tbody tr th {\n",
       "        vertical-align: top;\n",
       "    }\n",
       "\n",
       "    .dataframe thead th {\n",
       "        text-align: right;\n",
       "    }\n",
       "</style>\n",
       "<table border=\"1\" class=\"dataframe\">\n",
       "  <thead>\n",
       "    <tr style=\"text-align: right;\">\n",
       "      <th></th>\n",
       "      <th>location</th>\n",
       "      <th>date</th>\n",
       "      <th>total_cases</th>\n",
       "      <th>total_deaths</th>\n",
       "      <th>stringency_index</th>\n",
       "      <th>population</th>\n",
       "      <th>gdp_per_capita</th>\n",
       "      <th>human_development_index</th>\n",
       "    </tr>\n",
       "  </thead>\n",
       "  <tbody>\n",
       "    <tr>\n",
       "      <th>50415</th>\n",
       "      <td>Zimbabwe</td>\n",
       "      <td>2020-10-17</td>\n",
       "      <td>0.567269</td>\n",
       "      <td>0.443642</td>\n",
       "      <td>76.85</td>\n",
       "      <td>14862927</td>\n",
       "      <td>0.203796</td>\n",
       "      <td>0.535</td>\n",
       "    </tr>\n",
       "    <tr>\n",
       "      <th>50416</th>\n",
       "      <td>Zimbabwe</td>\n",
       "      <td>2020-10-18</td>\n",
       "      <td>0.567354</td>\n",
       "      <td>0.443642</td>\n",
       "      <td>76.85</td>\n",
       "      <td>14862927</td>\n",
       "      <td>0.203796</td>\n",
       "      <td>0.535</td>\n",
       "    </tr>\n",
       "    <tr>\n",
       "      <th>50417</th>\n",
       "      <td>Zimbabwe</td>\n",
       "      <td>2020-10-19</td>\n",
       "      <td>0.567641</td>\n",
       "      <td>0.443642</td>\n",
       "      <td>76.85</td>\n",
       "      <td>14862927</td>\n",
       "      <td>0.203796</td>\n",
       "      <td>0.535</td>\n",
       "    </tr>\n",
       "  </tbody>\n",
       "</table>\n",
       "</div>"
      ],
      "text/plain": [
       "       location        date  total_cases  total_deaths  stringency_index  \\\n",
       "50415  Zimbabwe  2020-10-17     0.567269      0.443642             76.85   \n",
       "50416  Zimbabwe  2020-10-18     0.567354      0.443642             76.85   \n",
       "50417  Zimbabwe  2020-10-19     0.567641      0.443642             76.85   \n",
       "\n",
       "       population  gdp_per_capita  human_development_index  \n",
       "50415    14862927        0.203796                    0.535  \n",
       "50416    14862927        0.203796                    0.535  \n",
       "50417    14862927        0.203796                    0.535  "
      ]
     },
     "execution_count": 109,
     "metadata": {},
     "output_type": "execute_result"
    }
   ],
   "source": [
    "scale = MinMaxScaler()\n",
    "scaling = ['total_cases','total_deaths', 'gdp_per_capita']\n",
    "scale_trans = pd.DataFrame(data = df1)\n",
    "scale_trans[scaling] = scale.fit_transform(df1[scaling])\n",
    "scale_trans.tail(3)"
   ]
  },
  {
   "cell_type": "markdown",
   "id": "0ebf1a21",
   "metadata": {},
   "source": [
    "# Correlates \n",
    "Value is the proportion of a variable's variation between each features in the data set. The human development index has a 0.89 correlation with gdp per capita variables that indicates have linear relationship.Additionally, as the overall number of cases rises, so does the number of deaths, which is 0.92 & this also have positive relationship, research shows that when the number of cases rises, the death toll similarly rises. Nonetheless, there is a -0.008 correlation between the GDP and the population which is negative relationship."
   ]
  },
  {
   "cell_type": "code",
   "execution_count": 110,
   "id": "2b4adcca",
   "metadata": {},
   "outputs": [
    {
     "data": {
      "text/html": [
       "<div>\n",
       "<style scoped>\n",
       "    .dataframe tbody tr th:only-of-type {\n",
       "        vertical-align: middle;\n",
       "    }\n",
       "\n",
       "    .dataframe tbody tr th {\n",
       "        vertical-align: top;\n",
       "    }\n",
       "\n",
       "    .dataframe thead th {\n",
       "        text-align: right;\n",
       "    }\n",
       "</style>\n",
       "<table border=\"1\" class=\"dataframe\">\n",
       "  <thead>\n",
       "    <tr style=\"text-align: right;\">\n",
       "      <th></th>\n",
       "      <th>total_cases</th>\n",
       "      <th>total_deaths</th>\n",
       "      <th>stringency_index</th>\n",
       "      <th>population</th>\n",
       "      <th>gdp_per_capita</th>\n",
       "      <th>human_development_index</th>\n",
       "    </tr>\n",
       "  </thead>\n",
       "  <tbody>\n",
       "    <tr>\n",
       "      <th>total_cases</th>\n",
       "      <td>1.000000</td>\n",
       "      <td>0.921514</td>\n",
       "      <td>0.165891</td>\n",
       "      <td>0.229580</td>\n",
       "      <td>0.268451</td>\n",
       "      <td>0.270539</td>\n",
       "    </tr>\n",
       "    <tr>\n",
       "      <th>total_deaths</th>\n",
       "      <td>0.921514</td>\n",
       "      <td>1.000000</td>\n",
       "      <td>0.100190</td>\n",
       "      <td>0.263587</td>\n",
       "      <td>0.263967</td>\n",
       "      <td>0.276963</td>\n",
       "    </tr>\n",
       "    <tr>\n",
       "      <th>stringency_index</th>\n",
       "      <td>0.165891</td>\n",
       "      <td>0.100190</td>\n",
       "      <td>1.000000</td>\n",
       "      <td>0.087884</td>\n",
       "      <td>-0.065500</td>\n",
       "      <td>-0.088997</td>\n",
       "    </tr>\n",
       "    <tr>\n",
       "      <th>population</th>\n",
       "      <td>0.229580</td>\n",
       "      <td>0.263587</td>\n",
       "      <td>0.087884</td>\n",
       "      <td>1.000000</td>\n",
       "      <td>-0.008547</td>\n",
       "      <td>-0.009632</td>\n",
       "    </tr>\n",
       "    <tr>\n",
       "      <th>gdp_per_capita</th>\n",
       "      <td>0.268451</td>\n",
       "      <td>0.263967</td>\n",
       "      <td>-0.065500</td>\n",
       "      <td>-0.008547</td>\n",
       "      <td>1.000000</td>\n",
       "      <td>0.894158</td>\n",
       "    </tr>\n",
       "    <tr>\n",
       "      <th>human_development_index</th>\n",
       "      <td>0.270539</td>\n",
       "      <td>0.276963</td>\n",
       "      <td>-0.088997</td>\n",
       "      <td>-0.009632</td>\n",
       "      <td>0.894158</td>\n",
       "      <td>1.000000</td>\n",
       "    </tr>\n",
       "  </tbody>\n",
       "</table>\n",
       "</div>"
      ],
      "text/plain": [
       "                         total_cases  total_deaths  stringency_index  \\\n",
       "total_cases                 1.000000      0.921514          0.165891   \n",
       "total_deaths                0.921514      1.000000          0.100190   \n",
       "stringency_index            0.165891      0.100190          1.000000   \n",
       "population                  0.229580      0.263587          0.087884   \n",
       "gdp_per_capita              0.268451      0.263967         -0.065500   \n",
       "human_development_index     0.270539      0.276963         -0.088997   \n",
       "\n",
       "                         population  gdp_per_capita  human_development_index  \n",
       "total_cases                0.229580        0.268451                 0.270539  \n",
       "total_deaths               0.263587        0.263967                 0.276963  \n",
       "stringency_index           0.087884       -0.065500                -0.088997  \n",
       "population                 1.000000       -0.008547                -0.009632  \n",
       "gdp_per_capita            -0.008547        1.000000                 0.894158  \n",
       "human_development_index   -0.009632        0.894158                 1.000000  "
      ]
     },
     "execution_count": 110,
     "metadata": {},
     "output_type": "execute_result"
    }
   ],
   "source": [
    "df1.corr()"
   ]
  },
  {
   "cell_type": "markdown",
   "id": "e27157e0",
   "metadata": {},
   "source": [
    "# Map\n",
    "The heatmap plot displaying additional data details of the data's interrelationships."
   ]
  },
  {
   "cell_type": "code",
   "execution_count": 111,
   "id": "641496a7",
   "metadata": {},
   "outputs": [
    {
     "data": {
      "text/plain": [
       "<AxesSubplot:>"
      ]
     },
     "execution_count": 111,
     "metadata": {},
     "output_type": "execute_result"
    },
    {
     "data": {
      "image/png": "[encoded data removed]",
      "text/plain": [
       "<Figure size 432x288 with 2 Axes>"
      ]
     },
     "metadata": {
      "needs_background": "light"
     },
     "output_type": "display_data"
    }
   ],
   "source": [
    "sns.heatmap(df1.corr(), \n",
    "            cmap='crest',\n",
    "            annot=True,\n",
    "            linewidth=0.5)"
   ]
  },
  {
   "cell_type": "markdown",
   "id": "173187b1",
   "metadata": {},
   "source": [
    "# Method\n",
    "using Linear Regression, StandardScaler, Pipeline with split functions & k-fold method.\n",
    "The k-fold cross validation method is used to evaluate how effectively the method performed on data."
   ]
  },
  {
   "cell_type": "code",
   "execution_count": 112,
   "id": "c56a49ad",
   "metadata": {},
   "outputs": [],
   "source": [
    "#X = scale_trans.iloc[:, :-2].values\n",
    "#y = df_.iloc[:, -1].values\n",
    "X = scale_trans[['total_cases', 'total_deaths', 'stringency_index','population', 'human_development_index']]\n",
    "y = scale_trans['gdp_per_capita']\n",
    "\n",
    "X_train, X_test, y_train, y_test = train_test_split(X, y, test_size =0.25, random_state=42)"
   ]
  },
  {
   "cell_type": "code",
   "execution_count": 113,
   "id": "64204f47",
   "metadata": {},
   "outputs": [],
   "source": [
    "k_fold = KFold(shuffle=True, random_state=52518, n_splits=4)"
   ]
  },
  {
   "cell_type": "markdown",
   "id": "ead7faf1",
   "metadata": {},
   "source": [
    "# Variance & pipeline\n",
    "Determines the percentage of the dependent variable's variance that the independent variable.\n",
    "The variance scores of the variables exhibit fairly similar results to each other when using the Standard Scaler and Linear Regression, with values of 0.806 and 0.798, respectively."
   ]
  },
  {
   "cell_type": "code",
   "execution_count": 114,
   "id": "e68faf16",
   "metadata": {},
   "outputs": [
    {
     "data": {
      "text/plain": [
       "0.8067369618805348"
      ]
     },
     "execution_count": 114,
     "metadata": {},
     "output_type": "execute_result"
    }
   ],
   "source": [
    "#StandardScale with k-fold   \n",
    "scale = StandardScaler()\n",
    "linr = LinearRegression()\n",
    "\n",
    "X_train_ = scale.fit_transform(X_train)\n",
    "linr.fit(X_train_, y_train)\n",
    "X_test = scale.transform(X_test)  \n",
    "y_predict = linr.predict(X_test)\n",
    "scale_score = r2_score(y_test.values, y_predict)\n",
    "scale_score\n"
   ]
  },
  {
   "cell_type": "code",
   "execution_count": 115,
   "id": "aecc6d3f",
   "metadata": {},
   "outputs": [
    {
     "data": {
      "text/plain": [
       "0.798358481673621"
      ]
     },
     "execution_count": 115,
     "metadata": {},
     "output_type": "execute_result"
    }
   ],
   "source": [
    "# regression with K-fold \n",
    "pipe = Pipeline([(\"scaler\", scale),(\"regression\", linr)])\n",
    "predict_linr = cross_val_predict(pipe, X_train, y_train)\n",
    "linr_score = r2_score(y_train, predict_linr)\n",
    "linr_score"
   ]
  },
  {
   "cell_type": "markdown",
   "id": "9f6f7ef6",
   "metadata": {},
   "source": [
    "# Lasso\n",
    "The lasso regression plot indicated a negative correlation between the variables' parameter values. This once again demonstrates that when alpha increases, model complexity decreases."
   ]
  },
  {
   "cell_type": "code",
   "execution_count": 116,
   "id": "13f27e0e",
   "metadata": {},
   "outputs": [
    {
     "data": {
      "image/png": "[encoded data removed]",
      "text/plain": [
       "<Figure size 432x288 with 1 Axes>"
      ]
     },
     "metadata": {
      "needs_background": "light"
     },
     "output_type": "display_data"
    }
   ],
   "source": [
    "#lasso gives proper \n",
    "Poly = PolynomialFeatures(degree=5)\n",
    "scores = []\n",
    "alphas = np.geomspace(0.02, 10.0, 30)\n",
    "predict_lasso = []\n",
    "for alpha in alphas:\n",
    "    las_alpha = Lasso(alpha=alpha, max_iter=10000)\n",
    "    \n",
    "    Pipe = Pipeline([(\"scaler\", scale), (\"feature\", Poly), (\"lasso\", las_alpha)])\n",
    "\n",
    "    predict_lasso = cross_val_predict(Pipe, X_train, y_train)\n",
    "    \n",
    "    r_2_s = r2_score(y_train, predict_lasso)\n",
    "    \n",
    "    scores.append(r_2_s)\n",
    "plt.semilogx(alphas, scores, '--o', color='green')\n",
    "plt.title('Lasso')\n",
    "plt.xlabel('$\\\\alpha$')\n",
    "plt.ylabel('$R^2$');"
   ]
  },
  {
   "cell_type": "code",
   "execution_count": 117,
   "id": "c1346f4b",
   "metadata": {},
   "outputs": [
    {
     "data": {
      "text/plain": [
       "-3.99499162431205e-05"
      ]
     },
     "execution_count": 117,
     "metadata": {},
     "output_type": "execute_result"
    }
   ],
   "source": [
    "r_2_s"
   ]
  },
  {
   "cell_type": "markdown",
   "id": "fd2c086a",
   "metadata": {},
   "source": [
    "# Conclusion\n",
    "Due to pandamic, the provided data cannot accurately reflect the global market's true impact. Due to a lack of equipment in some developing countries, there aren't enough cases to report. On the other hand, developed nations have sufficient testing facilities and offer more cases for both testing and showing.\n",
    "Perhaps gathering more frequent data on specific countries might help to produce more precise results when predicting the impact on GDP for a particular country."
   ]
  },
  {
   "cell_type": "code",
   "execution_count": null,
   "id": "b12fb776",
   "metadata": {},
   "outputs": [],
   "source": []
  }
 ],
 "metadata": {
  "kernelspec": {
   "display_name": "Python 3 (ipykernel)",
   "language": "python",
   "name": "python3"
  },
  "language_info": {
   "codemirror_mode": {
    "name": "ipython",
    "version": 3
   },
   "file_extension": ".py",
   "mimetype": "text/x-python",
   "name": "python",
   "nbconvert_exporter": "python",
   "pygments_lexer": "ipython3",
   "version": "3.9.7"
  }
 },
 "nbformat": 4,
 "nbformat_minor": 5
}
